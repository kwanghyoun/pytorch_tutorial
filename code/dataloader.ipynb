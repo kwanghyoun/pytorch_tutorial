{
 "cells": [
  {
   "cell_type": "markdown",
   "source": [
    "# Dataset & Dataloader\r\n",
    "---"
   ],
   "metadata": {}
  },
  {
   "cell_type": "code",
   "execution_count": 4,
   "source": [
    "import torch\r\n",
    "import torchvision\r\n",
    "from torch.utils.data import Dataset, DataLoader\r\n",
    "import numpy as np\r\n",
    "import math"
   ],
   "outputs": [],
   "metadata": {}
  },
  {
   "cell_type": "code",
   "execution_count": null,
   "source": [
    "class WineDataset(Dataset):\r\n",
    "\r\n",
    "    def __init__(self):\r\n",
    "        # Initialize data, download, etc.\r\n",
    "        # read with numpy or pandas\r\n",
    "        xy = np.loadtxt('./data/wine/wine.csv', delimiter=',', dtype=np.float32, skiprows=1)\r\n",
    "        self.n_samples = xy.shape[0]\r\n",
    "\r\n",
    "        # here the first column is the class label, the rest are the features\r\n",
    "        self.x_data = torch.from_numpy(xy[:, 1:]) # size [n_samples, n_features]\r\n",
    "        self.y_data = torch.from_numpy(xy[:, [0]]) # size [n_samples, 1]\r\n",
    "\r\n",
    "    # support indexing such that dataset[i] can be used to get i-th sample\r\n",
    "    def __getitem__(self, index):\r\n",
    "        return self.x_data[index], self.y_data[index]\r\n",
    "\r\n",
    "    # we can call len(dataset) to return the size\r\n",
    "    def __len__(self):\r\n",
    "        return self.n_samples\r\n"
   ],
   "outputs": [],
   "metadata": {}
  }
 ],
 "metadata": {
  "orig_nbformat": 4,
  "language_info": {
   "name": "python",
   "version": "3.9.6",
   "mimetype": "text/x-python",
   "codemirror_mode": {
    "name": "ipython",
    "version": 3
   },
   "pygments_lexer": "ipython3",
   "nbconvert_exporter": "python",
   "file_extension": ".py"
  },
  "kernelspec": {
   "name": "python3",
   "display_name": "Python 3.9.6 64-bit"
  },
  "interpreter": {
   "hash": "63fd5069d213b44bf678585dea6b12cceca9941eaf7f819626cde1f2670de90d"
  }
 },
 "nbformat": 4,
 "nbformat_minor": 2
}