{
 "cells": [
  {
   "cell_type": "markdown",
   "source": [
    "# Tensor Indexing\r\n",
    "---"
   ],
   "metadata": {}
  },
  {
   "cell_type": "code",
   "execution_count": 1,
   "source": [
    "import torch"
   ],
   "outputs": [],
   "metadata": {}
  },
  {
   "cell_type": "code",
   "execution_count": 4,
   "source": [
    "x = torch.rand(5,3)\r\n",
    "print(x)\r\n",
    "print(x[:, 0])\r\n",
    "print(x[1,:])"
   ],
   "outputs": [
    {
     "output_type": "stream",
     "name": "stdout",
     "text": [
      "tensor([[0.3583, 0.7136, 0.2398],\n",
      "        [0.8045, 0.1365, 0.1021],\n",
      "        [0.0922, 0.4952, 0.2953],\n",
      "        [0.5177, 0.6493, 0.0620],\n",
      "        [0.8767, 0.3268, 0.4896]])\n",
      "tensor([0.3583, 0.8045, 0.0922, 0.5177, 0.8767])\n",
      "tensor([0.8045, 0.1365, 0.1021])\n"
     ]
    }
   ],
   "metadata": {}
  },
  {
   "cell_type": "code",
   "execution_count": 11,
   "source": [
    "print(x[1,1])\r\n",
    "print(x[1,1].dtype)\r\n",
    "\r\n",
    "print(x[1,1].item())\r\n",
    "print(type(x[1,1].item()))"
   ],
   "outputs": [
    {
     "output_type": "stream",
     "name": "stdout",
     "text": [
      "tensor(0.1365)\n",
      "torch.float32\n",
      "0.1364954113960266\n",
      "<class 'float'>\n"
     ]
    }
   ],
   "metadata": {}
  },
  {
   "cell_type": "code",
   "execution_count": null,
   "source": [],
   "outputs": [],
   "metadata": {}
  }
 ],
 "metadata": {
  "orig_nbformat": 4,
  "language_info": {
   "name": "python",
   "version": "3.9.5",
   "mimetype": "text/x-python",
   "codemirror_mode": {
    "name": "ipython",
    "version": 3
   },
   "pygments_lexer": "ipython3",
   "nbconvert_exporter": "python",
   "file_extension": ".py"
  },
  "kernelspec": {
   "name": "python3",
   "display_name": "Python 3.9.5 64-bit"
  },
  "interpreter": {
   "hash": "ac59ebe37160ed0dfa835113d9b8498d9f09ceb179beaac4002f036b9467c963"
  }
 },
 "nbformat": 4,
 "nbformat_minor": 2
}