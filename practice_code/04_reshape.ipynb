{
 "cells": [
  {
   "cell_type": "markdown",
   "source": [
    "# Reshaping\r\n",
    "---"
   ],
   "metadata": {}
  },
  {
   "cell_type": "code",
   "execution_count": 2,
   "source": [
    "import torch"
   ],
   "outputs": [],
   "metadata": {}
  },
  {
   "cell_type": "code",
   "execution_count": 3,
   "source": [
    "x = torch.rand(4,4)\r\n",
    "print(x)"
   ],
   "outputs": [
    {
     "output_type": "stream",
     "name": "stdout",
     "text": [
      "tensor([[0.8233, 0.5192, 0.1143, 0.4652],\n",
      "        [0.7187, 0.7110, 0.7971, 0.1785],\n",
      "        [0.8174, 0.4686, 0.4957, 0.5915],\n",
      "        [0.6774, 0.4720, 0.9571, 0.3854]])\n"
     ]
    }
   ],
   "metadata": {}
  },
  {
   "cell_type": "code",
   "execution_count": 15,
   "source": [
    "print(x.squeeze())\r\n",
    "print(x.unsqueeze(0))\r\n",
    "print(x.unsqueeze(1))\r\n",
    "print(x.unsqueeze(2))"
   ],
   "outputs": [
    {
     "output_type": "stream",
     "name": "stdout",
     "text": [
      "tensor([[0.8233, 0.5192, 0.1143, 0.4652],\n",
      "        [0.7187, 0.7110, 0.7971, 0.1785],\n",
      "        [0.8174, 0.4686, 0.4957, 0.5915],\n",
      "        [0.6774, 0.4720, 0.9571, 0.3854]])\n",
      "tensor([[[0.8233, 0.5192, 0.1143, 0.4652],\n",
      "         [0.7187, 0.7110, 0.7971, 0.1785],\n",
      "         [0.8174, 0.4686, 0.4957, 0.5915],\n",
      "         [0.6774, 0.4720, 0.9571, 0.3854]]])\n",
      "tensor([[[0.8233, 0.5192, 0.1143, 0.4652]],\n",
      "\n",
      "        [[0.7187, 0.7110, 0.7971, 0.1785]],\n",
      "\n",
      "        [[0.8174, 0.4686, 0.4957, 0.5915]],\n",
      "\n",
      "        [[0.6774, 0.4720, 0.9571, 0.3854]]])\n",
      "tensor([[[0.8233],\n",
      "         [0.5192],\n",
      "         [0.1143],\n",
      "         [0.4652]],\n",
      "\n",
      "        [[0.7187],\n",
      "         [0.7110],\n",
      "         [0.7971],\n",
      "         [0.1785]],\n",
      "\n",
      "        [[0.8174],\n",
      "         [0.4686],\n",
      "         [0.4957],\n",
      "         [0.5915]],\n",
      "\n",
      "        [[0.6774],\n",
      "         [0.4720],\n",
      "         [0.9571],\n",
      "         [0.3854]]])\n"
     ]
    }
   ],
   "metadata": {}
  },
  {
   "cell_type": "code",
   "execution_count": 16,
   "source": [
    "x.view(16)"
   ],
   "outputs": [
    {
     "output_type": "execute_result",
     "data": {
      "text/plain": [
       "tensor([0.8233, 0.5192, 0.1143, 0.4652, 0.7187, 0.7110, 0.7971, 0.1785, 0.8174,\n",
       "        0.4686, 0.4957, 0.5915, 0.6774, 0.4720, 0.9571, 0.3854])"
      ]
     },
     "metadata": {},
     "execution_count": 16
    }
   ],
   "metadata": {}
  },
  {
   "cell_type": "markdown",
   "source": [],
   "metadata": {}
  }
 ],
 "metadata": {
  "orig_nbformat": 4,
  "language_info": {
   "name": "python",
   "version": "3.9.5",
   "mimetype": "text/x-python",
   "codemirror_mode": {
    "name": "ipython",
    "version": 3
   },
   "pygments_lexer": "ipython3",
   "nbconvert_exporter": "python",
   "file_extension": ".py"
  },
  "kernelspec": {
   "name": "python3",
   "display_name": "Python 3.9.5 64-bit"
  },
  "interpreter": {
   "hash": "ac59ebe37160ed0dfa835113d9b8498d9f09ceb179beaac4002f036b9467c963"
  }
 },
 "nbformat": 4,
 "nbformat_minor": 2
}