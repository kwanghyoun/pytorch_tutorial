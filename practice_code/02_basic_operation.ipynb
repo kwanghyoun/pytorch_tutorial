{
 "cells": [
  {
   "cell_type": "markdown",
   "source": [
    "# Basic Operation\r\n",
    "---\r\n"
   ],
   "metadata": {}
  },
  {
   "cell_type": "markdown",
   "source": [],
   "metadata": {}
  },
  {
   "cell_type": "code",
   "execution_count": 2,
   "source": [
    "\r\n",
    "import torch"
   ],
   "outputs": [],
   "metadata": {}
  },
  {
   "cell_type": "code",
   "execution_count": 13,
   "source": [
    "x = torch.rand(2,2)\r\n",
    "y = torch.rand(2,2)\r\n",
    "print(x)\r\n",
    "print(y)"
   ],
   "outputs": [
    {
     "output_type": "stream",
     "name": "stdout",
     "text": [
      "tensor([[0.8089, 0.4800],\n",
      "        [0.4084, 0.6234]])\n",
      "tensor([[0.2326, 0.9515],\n",
      "        [0.6435, 0.2718]])\n"
     ]
    }
   ],
   "metadata": {}
  },
  {
   "cell_type": "code",
   "execution_count": 16,
   "source": [
    "add_1 = x+y\r\n",
    "add_2 = torch.add(x,y)\r\n",
    "\r\n",
    "print(add_1, add_2, sep='\\n')\r\n"
   ],
   "outputs": [
    {
     "output_type": "stream",
     "name": "stdout",
     "text": [
      "tensor([[1.8504, 1.9116],\n",
      "        [1.4602, 1.5185]])\n",
      "tensor([[1.8504, 1.9116],\n",
      "        [1.4602, 1.5185]])\n"
     ]
    }
   ],
   "metadata": {}
  },
  {
   "cell_type": "code",
   "execution_count": 17,
   "source": [
    "sub_1 = x-y\r\n",
    "sub_2 = torch.sub(x,y)\r\n",
    "\r\n",
    "print(sub_1, sub_1, sep='\\n')\r\n"
   ],
   "outputs": [
    {
     "output_type": "stream",
     "name": "stdout",
     "text": [
      "tensor([[-0.2326, -0.9515],\n",
      "        [-0.6435, -0.2718]])\n",
      "tensor([[-0.2326, -0.9515],\n",
      "        [-0.6435, -0.2718]])\n"
     ]
    }
   ],
   "metadata": {}
  },
  {
   "cell_type": "code",
   "execution_count": 18,
   "source": [
    "mul_1 = x*y\r\n",
    "mul_2 = torch.mul(x,y)\r\n",
    "\r\n",
    "print(mul_1, mul_2, sep='\\n')\r\n"
   ],
   "outputs": [
    {
     "output_type": "stream",
     "name": "stdout",
     "text": [
      "tensor([[0.8425, 0.6872],\n",
      "        [0.4296, 0.5580]])\n",
      "tensor([[0.8425, 0.6872],\n",
      "        [0.4296, 0.5580]])\n"
     ]
    }
   ],
   "metadata": {}
  },
  {
   "cell_type": "code",
   "execution_count": 19,
   "source": [
    "div_1 = x/y\r\n",
    "div_2 = torch.div(x,y)\r\n",
    "\r\n",
    "print(div_1, div_2, sep='\\n')\r\n"
   ],
   "outputs": [
    {
     "output_type": "stream",
     "name": "stdout",
     "text": [
      "tensor([[0.7767, 0.3353],\n",
      "        [0.3882, 0.6964]])\n",
      "tensor([[0.7767, 0.3353],\n",
      "        [0.3882, 0.6964]])\n"
     ]
    }
   ],
   "metadata": {}
  },
  {
   "cell_type": "markdown",
   "source": [
    "## Inplace version of operators\r\n",
    "---"
   ],
   "metadata": {}
  },
  {
   "cell_type": "code",
   "execution_count": 24,
   "source": [
    "x = torch.Tensor([[1,1],\r\n",
    "                  [1,1]])\r\n",
    "y = torch.Tensor([[1,0],\r\n",
    "                  [0,1]])\r\n",
    "\r\n",
    "\r\n",
    "x.add_(y)\r\n",
    "print(x)\r\n",
    "x.add_(y)\r\n",
    "print(x)"
   ],
   "outputs": [
    {
     "output_type": "stream",
     "name": "stdout",
     "text": [
      "tensor([[2., 1.],\n",
      "        [1., 2.]])\n",
      "tensor([[3., 1.],\n",
      "        [1., 3.]])\n"
     ]
    }
   ],
   "metadata": {}
  },
  {
   "cell_type": "code",
   "execution_count": 25,
   "source": [
    "x = torch.Tensor([[1,1],\r\n",
    "                  [1,1]])\r\n",
    "y = torch.Tensor([[1,0],\r\n",
    "                  [0,1]])\r\n",
    "\r\n",
    "\r\n",
    "x.sub_(y)\r\n",
    "print(x)\r\n",
    "x.sub_(y)\r\n",
    "print(x)"
   ],
   "outputs": [
    {
     "output_type": "stream",
     "name": "stdout",
     "text": [
      "tensor([[0., 1.],\n",
      "        [1., 0.]])\n",
      "tensor([[-1.,  1.],\n",
      "        [ 1., -1.]])\n"
     ]
    }
   ],
   "metadata": {}
  },
  {
   "cell_type": "code",
   "execution_count": 27,
   "source": [
    "x = torch.Tensor([[1,1],\r\n",
    "                  [1,1]])\r\n",
    "y = torch.Tensor([[1,0],\r\n",
    "                  [0,1]])\r\n",
    "\r\n",
    "\r\n",
    "x.mul_(y)\r\n",
    "print(x)\r\n",
    "x.mul_(y)\r\n",
    "print(x)"
   ],
   "outputs": [
    {
     "output_type": "stream",
     "name": "stdout",
     "text": [
      "tensor([[1., 0.],\n",
      "        [0., 1.]])\n",
      "tensor([[1., 0.],\n",
      "        [0., 1.]])\n"
     ]
    }
   ],
   "metadata": {}
  },
  {
   "cell_type": "code",
   "execution_count": 29,
   "source": [
    "x = torch.Tensor([[1,1],\r\n",
    "                  [1,1]])\r\n",
    "y = torch.Tensor([[1,0],\r\n",
    "                  [0,1]])\r\n",
    "\r\n",
    "\r\n",
    "x.div_(y)\r\n",
    "print(x)\r\n",
    "x.div_(y)\r\n",
    "print(x)"
   ],
   "outputs": [
    {
     "output_type": "stream",
     "name": "stdout",
     "text": [
      "tensor([[1., inf],\n",
      "        [inf, 1.]])\n",
      "tensor([[1., inf],\n",
      "        [inf, 1.]])\n"
     ]
    }
   ],
   "metadata": {}
  }
 ],
 "metadata": {
  "orig_nbformat": 4,
  "language_info": {
   "name": "python",
   "version": "3.9.5",
   "mimetype": "text/x-python",
   "codemirror_mode": {
    "name": "ipython",
    "version": 3
   },
   "pygments_lexer": "ipython3",
   "nbconvert_exporter": "python",
   "file_extension": ".py"
  },
  "kernelspec": {
   "name": "python3",
   "display_name": "Python 3.9.5 64-bit"
  },
  "interpreter": {
   "hash": "ac59ebe37160ed0dfa835113d9b8498d9f09ceb179beaac4002f036b9467c963"
  }
 },
 "nbformat": 4,
 "nbformat_minor": 2
}