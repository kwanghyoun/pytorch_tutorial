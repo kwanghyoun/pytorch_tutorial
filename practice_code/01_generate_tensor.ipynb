{
 "cells": [
  {
   "cell_type": "markdown",
   "source": [
    "#  PyTorch Basic 01. Generate Tensor\r\n",
    "---\r\n",
    "- torch.empty()\r\n",
    "- torch.rand()\r\n",
    "- torch.zeros()\r\n",
    "- torch.ones()\r\n",
    "- torch.tensor()\r\n",
    "- torch.Tensor()\r\n",
    "<br>"
   ],
   "metadata": {}
  },
  {
   "cell_type": "code",
   "execution_count": 1,
   "source": [
    "import torch"
   ],
   "outputs": [],
   "metadata": {}
  },
  {
   "cell_type": "code",
   "execution_count": 12,
   "source": [
    "x = torch.empty(3)\r\n",
    "y = torch.empty(3,2)\r\n",
    "print(x)\r\n",
    "print(y)"
   ],
   "outputs": [
    {
     "output_type": "stream",
     "name": "stdout",
     "text": [
      "tensor([0.0000e+00, 0.0000e+00, 5.6052e-45])\n",
      "tensor([[0.0000e+00, 2.3694e-38],\n",
      "        [1.8754e+28, 2.0110e+20],\n",
      "        [1.7061e-07, 1.3040e-11]])\n"
     ]
    }
   ],
   "metadata": {}
  },
  {
   "cell_type": "code",
   "execution_count": 13,
   "source": [
    "x = torch.rand(2)\r\n",
    "y = torch.rand(3,2)\r\n",
    "\r\n",
    "print(x)\r\n",
    "print(y)"
   ],
   "outputs": [
    {
     "output_type": "stream",
     "name": "stdout",
     "text": [
      "tensor([0.5777, 0.1370])\n",
      "tensor([[0.9998, 0.0793],\n",
      "        [0.8528, 0.5195],\n",
      "        [0.2840, 0.3653]])\n"
     ]
    }
   ],
   "metadata": {}
  },
  {
   "cell_type": "code",
   "execution_count": 14,
   "source": [
    "x = torch.zeros(2)\r\n",
    "y = torch.zeros(3,2)\r\n",
    "\r\n",
    "print(x)\r\n",
    "print(y)"
   ],
   "outputs": [
    {
     "output_type": "stream",
     "name": "stdout",
     "text": [
      "tensor([0., 0.])\n",
      "tensor([[0., 0.],\n",
      "        [0., 0.],\n",
      "        [0., 0.]])\n"
     ]
    }
   ],
   "metadata": {}
  },
  {
   "cell_type": "code",
   "execution_count": 15,
   "source": [
    "x = torch.ones(2)\r\n",
    "y = torch.ones(3,2)\r\n",
    "\r\n",
    "print(x)\r\n",
    "print(y)"
   ],
   "outputs": [
    {
     "output_type": "stream",
     "name": "stdout",
     "text": [
      "tensor([1., 1.])\n",
      "tensor([[1., 1.],\n",
      "        [1., 1.],\n",
      "        [1., 1.]])\n"
     ]
    }
   ],
   "metadata": {}
  },
  {
   "cell_type": "code",
   "execution_count": 18,
   "source": [
    "print(torch.empty(3,2).dtype)\r\n",
    "print(torch.rand(3,2).dtype)\r\n",
    "print(torch.zeros(3,2).dtype)\r\n",
    "print(torch.ones(3,2).dtype)"
   ],
   "outputs": [
    {
     "output_type": "stream",
     "name": "stdout",
     "text": [
      "torch.float32\n",
      "torch.float32\n",
      "torch.float32\n",
      "torch.float32\n"
     ]
    }
   ],
   "metadata": {}
  },
  {
   "cell_type": "code",
   "execution_count": 20,
   "source": [
    "print(torch.empty(3,2, dtype=torch.int).dtype)\r\n",
    "print(torch.rand(3,2, dtype=torch.double).dtype)\r\n",
    "print(torch.zeros(3,2, dtype=torch.float16).dtype)\r\n",
    "print(torch.ones(3,2, dtype=torch.float64).dtype)"
   ],
   "outputs": [
    {
     "output_type": "stream",
     "name": "stdout",
     "text": [
      "torch.int32\n",
      "torch.float64\n",
      "torch.float16\n",
      "torch.float64\n"
     ]
    }
   ],
   "metadata": {}
  },
  {
   "cell_type": "code",
   "execution_count": 25,
   "source": [
    "print(torch.empty(3,2).size())\r\n",
    "print(torch.rand(3,2).size())\r\n",
    "print(torch.zeros(3,2).shape)\r\n",
    "print(torch.ones(3,2).shape)"
   ],
   "outputs": [
    {
     "output_type": "stream",
     "name": "stdout",
     "text": [
      "torch.Size([3, 2])\n",
      "torch.Size([3, 2])\n",
      "torch.Size([3, 2])\n",
      "torch.Size([3, 2])\n"
     ]
    }
   ],
   "metadata": {}
  },
  {
   "cell_type": "code",
   "execution_count": 28,
   "source": [
    "x = torch.Tensor([0,1,2])\r\n",
    "y = torch.Tensor([0., 1., 2.])\r\n",
    "print(x, x.dtype)\r\n",
    "print(y, y.dtype)"
   ],
   "outputs": [
    {
     "output_type": "stream",
     "name": "stdout",
     "text": [
      "tensor([0., 1., 2.]) torch.float32\n",
      "tensor([0., 1., 2.]) torch.float32\n"
     ]
    }
   ],
   "metadata": {}
  },
  {
   "cell_type": "code",
   "execution_count": 29,
   "source": [
    "x = torch.tensor([0,1,2])\r\n",
    "y = torch.tensor([0., 1., 2.])\r\n",
    "print(x, x.dtype)\r\n",
    "print(y, y.dtype)"
   ],
   "outputs": [
    {
     "output_type": "stream",
     "name": "stdout",
     "text": [
      "tensor([0, 1, 2]) torch.int64\n",
      "tensor([0., 1., 2.]) torch.float32\n"
     ]
    }
   ],
   "metadata": {}
  },
  {
   "cell_type": "code",
   "execution_count": null,
   "source": [],
   "outputs": [],
   "metadata": {}
  }
 ],
 "metadata": {
  "orig_nbformat": 4,
  "language_info": {
   "name": "python",
   "version": "3.9.5",
   "mimetype": "text/x-python",
   "codemirror_mode": {
    "name": "ipython",
    "version": 3
   },
   "pygments_lexer": "ipython3",
   "nbconvert_exporter": "python",
   "file_extension": ".py"
  },
  "kernelspec": {
   "name": "python3",
   "display_name": "Python 3.9.5 64-bit"
  },
  "interpreter": {
   "hash": "ac59ebe37160ed0dfa835113d9b8498d9f09ceb179beaac4002f036b9467c963"
  }
 },
 "nbformat": 4,
 "nbformat_minor": 2
}